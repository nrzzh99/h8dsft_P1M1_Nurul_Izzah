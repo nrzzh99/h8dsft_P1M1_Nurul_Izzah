{
  "nbformat": 4,
  "nbformat_minor": 0,
  "metadata": {
    "colab": {
      "provenance": []
    },
    "kernelspec": {
      "name": "python3",
      "display_name": "Python 3"
    },
    "language_info": {
      "name": "python"
    }
  },
  "cells": [
    {
      "cell_type": "markdown",
      "source": [
        "#IX. Model Inference"
      ],
      "metadata": {
        "id": "5oomveWFKjyc"
      }
    },
    {
      "cell_type": "markdown",
      "source": [
        "#Import LIbraries"
      ],
      "metadata": {
        "id": "TG6z4AhTcJ66"
      }
    },
    {
      "cell_type": "code",
      "execution_count": null,
      "metadata": {
        "id": "xWivYgSRcDTu"
      },
      "outputs": [],
      "source": [
        "# Import Libraries\n",
        "\n",
        "import pickle\n",
        "import json\n",
        "import pandas as pd\n",
        "import numpy as np"
      ]
    },
    {
      "cell_type": "markdown",
      "source": [
        "#Load Model"
      ],
      "metadata": {
        "id": "MtqKiCfDcOJZ"
      }
    },
    {
      "cell_type": "code",
      "source": [
        "# Load All Files\n",
        "\n",
        "with open('model_gradient_boosting.pkl', 'rb') as file_2:\n",
        "  best_gb = pickle.load(file_2)\n",
        "\n",
        "with open('model_scaler.pkl', 'rb') as file_2:\n",
        "  scaler = pickle.load(file_2)"
      ],
      "metadata": {
        "id": "yq5_GfCBcH7S"
      },
      "execution_count": null,
      "outputs": []
    },
    {
      "cell_type": "code",
      "source": [
        "# Create New Data \n",
        "\n",
        "data_inf = {\n",
        "    'pay_0': 0, \n",
        "    'pay_2': 0, \n",
        "    'pay_3': 1, \n",
        "    'pay_5': 0, \n",
        "    'pay_4': 2, \n",
        "    'pay_6': 0,\n",
        "}\n",
        "\n",
        "data_inf = pd.DataFrame([data_inf])\n",
        "data_inf"
      ],
      "metadata": {
        "id": "SOK-aqxffZ4V",
        "outputId": "12361320-f5b5-4a12-8c06-ae243ea9e1a4",
        "colab": {
          "base_uri": "https://localhost:8080/",
          "height": 81
        }
      },
      "execution_count": null,
      "outputs": [
        {
          "output_type": "execute_result",
          "data": {
            "text/plain": [
              "   pay_0  pay_2  pay_3  pay_5  pay_4  pay_6\n",
              "0      0      0      1      0      2      0"
            ],
            "text/html": [
              "\n",
              "  <div id=\"df-8356af5d-476d-4e14-b436-13024b289b8b\">\n",
              "    <div class=\"colab-df-container\">\n",
              "      <div>\n",
              "<style scoped>\n",
              "    .dataframe tbody tr th:only-of-type {\n",
              "        vertical-align: middle;\n",
              "    }\n",
              "\n",
              "    .dataframe tbody tr th {\n",
              "        vertical-align: top;\n",
              "    }\n",
              "\n",
              "    .dataframe thead th {\n",
              "        text-align: right;\n",
              "    }\n",
              "</style>\n",
              "<table border=\"1\" class=\"dataframe\">\n",
              "  <thead>\n",
              "    <tr style=\"text-align: right;\">\n",
              "      <th></th>\n",
              "      <th>pay_0</th>\n",
              "      <th>pay_2</th>\n",
              "      <th>pay_3</th>\n",
              "      <th>pay_5</th>\n",
              "      <th>pay_4</th>\n",
              "      <th>pay_6</th>\n",
              "    </tr>\n",
              "  </thead>\n",
              "  <tbody>\n",
              "    <tr>\n",
              "      <th>0</th>\n",
              "      <td>0</td>\n",
              "      <td>0</td>\n",
              "      <td>1</td>\n",
              "      <td>0</td>\n",
              "      <td>2</td>\n",
              "      <td>0</td>\n",
              "    </tr>\n",
              "  </tbody>\n",
              "</table>\n",
              "</div>\n",
              "      <button class=\"colab-df-convert\" onclick=\"convertToInteractive('df-8356af5d-476d-4e14-b436-13024b289b8b')\"\n",
              "              title=\"Convert this dataframe to an interactive table.\"\n",
              "              style=\"display:none;\">\n",
              "        \n",
              "  <svg xmlns=\"http://www.w3.org/2000/svg\" height=\"24px\"viewBox=\"0 0 24 24\"\n",
              "       width=\"24px\">\n",
              "    <path d=\"M0 0h24v24H0V0z\" fill=\"none\"/>\n",
              "    <path d=\"M18.56 5.44l.94 2.06.94-2.06 2.06-.94-2.06-.94-.94-2.06-.94 2.06-2.06.94zm-11 1L8.5 8.5l.94-2.06 2.06-.94-2.06-.94L8.5 2.5l-.94 2.06-2.06.94zm10 10l.94 2.06.94-2.06 2.06-.94-2.06-.94-.94-2.06-.94 2.06-2.06.94z\"/><path d=\"M17.41 7.96l-1.37-1.37c-.4-.4-.92-.59-1.43-.59-.52 0-1.04.2-1.43.59L10.3 9.45l-7.72 7.72c-.78.78-.78 2.05 0 2.83L4 21.41c.39.39.9.59 1.41.59.51 0 1.02-.2 1.41-.59l7.78-7.78 2.81-2.81c.8-.78.8-2.07 0-2.86zM5.41 20L4 18.59l7.72-7.72 1.47 1.35L5.41 20z\"/>\n",
              "  </svg>\n",
              "      </button>\n",
              "      \n",
              "  <style>\n",
              "    .colab-df-container {\n",
              "      display:flex;\n",
              "      flex-wrap:wrap;\n",
              "      gap: 12px;\n",
              "    }\n",
              "\n",
              "    .colab-df-convert {\n",
              "      background-color: #E8F0FE;\n",
              "      border: none;\n",
              "      border-radius: 50%;\n",
              "      cursor: pointer;\n",
              "      display: none;\n",
              "      fill: #1967D2;\n",
              "      height: 32px;\n",
              "      padding: 0 0 0 0;\n",
              "      width: 32px;\n",
              "    }\n",
              "\n",
              "    .colab-df-convert:hover {\n",
              "      background-color: #E2EBFA;\n",
              "      box-shadow: 0px 1px 2px rgba(60, 64, 67, 0.3), 0px 1px 3px 1px rgba(60, 64, 67, 0.15);\n",
              "      fill: #174EA6;\n",
              "    }\n",
              "\n",
              "    [theme=dark] .colab-df-convert {\n",
              "      background-color: #3B4455;\n",
              "      fill: #D2E3FC;\n",
              "    }\n",
              "\n",
              "    [theme=dark] .colab-df-convert:hover {\n",
              "      background-color: #434B5C;\n",
              "      box-shadow: 0px 1px 3px 1px rgba(0, 0, 0, 0.15);\n",
              "      filter: drop-shadow(0px 1px 2px rgba(0, 0, 0, 0.3));\n",
              "      fill: #FFFFFF;\n",
              "    }\n",
              "  </style>\n",
              "\n",
              "      <script>\n",
              "        const buttonEl =\n",
              "          document.querySelector('#df-8356af5d-476d-4e14-b436-13024b289b8b button.colab-df-convert');\n",
              "        buttonEl.style.display =\n",
              "          google.colab.kernel.accessAllowed ? 'block' : 'none';\n",
              "\n",
              "        async function convertToInteractive(key) {\n",
              "          const element = document.querySelector('#df-8356af5d-476d-4e14-b436-13024b289b8b');\n",
              "          const dataTable =\n",
              "            await google.colab.kernel.invokeFunction('convertToInteractive',\n",
              "                                                     [key], {});\n",
              "          if (!dataTable) return;\n",
              "\n",
              "          const docLinkHtml = 'Like what you see? Visit the ' +\n",
              "            '<a target=\"_blank\" href=https://colab.research.google.com/notebooks/data_table.ipynb>data table notebook</a>'\n",
              "            + ' to learn more about interactive tables.';\n",
              "          element.innerHTML = '';\n",
              "          dataTable['output_type'] = 'display_data';\n",
              "          await google.colab.output.renderOutput(dataTable, element);\n",
              "          const docLink = document.createElement('div');\n",
              "          docLink.innerHTML = docLinkHtml;\n",
              "          element.appendChild(docLink);\n",
              "        }\n",
              "      </script>\n",
              "    </div>\n",
              "  </div>\n",
              "  "
            ]
          },
          "metadata": {},
          "execution_count": 3
        }
      ]
    },
    {
      "cell_type": "code",
      "source": [
        "#feature scaling\n",
        "data_inf_scaled = scaler.transform(data_inf)"
      ],
      "metadata": {
        "id": "6LVpkQof1n3k"
      },
      "execution_count": null,
      "outputs": []
    },
    {
      "cell_type": "code",
      "source": [
        "# Memanggil method predict\n",
        "y_pred_inf = best_gb.predict(data_inf)\n",
        "\n",
        "print(\"Hasil prediksi:\")\n",
        "print(y_pred_inf)"
      ],
      "metadata": {
        "colab": {
          "base_uri": "https://localhost:8080/"
        },
        "id": "_rDQX4edfLhv",
        "outputId": "3bc1025f-25f9-404d-a289-97ce6b5e38c2"
      },
      "execution_count": null,
      "outputs": [
        {
          "output_type": "stream",
          "name": "stdout",
          "text": [
            "Hasil prediksi:\n",
            "[0]\n"
          ]
        }
      ]
    },
    {
      "cell_type": "markdown",
      "source": [
        "data baru yg telah diprediksi masuk ke class 0 ya itu class yg tidak akan mengalami keterlambatan pembayaran"
      ],
      "metadata": {
        "id": "dU_sI5wrKDwP"
      }
    },
    {
      "cell_type": "markdown",
      "source": [
        "#X. Pegambilan Kesimpulan"
      ],
      "metadata": {
        "id": "N6LEdkcWKSzH"
      }
    },
    {
      "cell_type": "markdown",
      "source": [
        "Rata-rata umur nasabah adalah 35 tahun dengan rentang usia antara 21 sampai 69 tahun.\n",
        "\n",
        "Rata-rata limit_balance (batas kredit) nasabah adalah 163,369.31 dengan standar deviasi 125,030.42. Nilai minimum limit_balance adalah 10,000 dan nilai maksimumnya adalah 800,000.\n",
        "\n",
        "Rata-rata tagihan bulanan (bill_amt) nasabah pada bulan ke-3 sampai ke-6 adalah lebih tinggi dibandingkan bulan sebelumnya.\n",
        "\n",
        "Rata-rata jumlah pembayaran (pay_amt) nasabah pada bulan ke-1 sampai ke-3 lebih rendah dibandingkan bulan berikutnya.\n",
        "\n",
        "Proporsi nasabah yang mengalami default payment next month adalah sekitar 21%.\n",
        "\n",
        "Mayoritas nasabah berjenis kelamin wanita (rata-rata 1.61).\n",
        "\n",
        "Mayoritas nasabah memiliki pendidikan level 2 (rata-rata 1.85).\n",
        "\n",
        "Mayoritas nasabah sudah menikah (rata-rata 1.56).\n",
        "\n",
        "Rata-rata nilai pay_0 dan pay_2 adalah mendekati 0, yang menunjukkan mayoritas nasabah membayar tagihan mereka pada waktu yang tepat.\n",
        "\n",
        "Sedangkan nilai pay_5 dan pay_6 cenderung negatif, yang berarti sebagian besar nasabah melakukan pembayaran keterlambatan pada bulan tersebut.\n",
        "\n",
        "mayoritas wanita yg melakukan default_payment_next_month ada 373 orang\n",
        "\n",
        "pendidikan level 2 memiliki jumlah terbanyak, yaitu sekitar 1400 untuk melakukan default_payment_next_month\n",
        "\n",
        "maritas status tertinggi berada di class 2 untuk default_payment_next_month class 1 memiliki jumlah 1600\n",
        "\n",
        "limit saldo kredit tertinggi berada di 800000 tetapi mayoritas nasabah hanya menggunakan sampai 500000\n",
        "\n",
        "sebagian besar nasabah memiliki tagihan yang relatif kecil atau bahkan tidak memiliki tagihan pada bulan tersebut. Hal ini dapat menjadi indikasi bahwa sebagian besar nasabah cenderung membayar tagihan kredit mereka secara tepat waktu\n",
        "\n",
        "sebagian besar nasabah melakukan pembayaran dalam jumlah yang relatif kecil. Hal ini juga terbukti bahwa nilai rata-rata pembayaran pada setiap bulan cenderung lebih rendah dari batas kredit yang diberikan pada nasabah\n",
        "\n",
        "setelah di pilih menggunaka cross validation, model terbaik adalah gradient boosting\n",
        "\n",
        "hyperparameter yg digunakan adalah gridsearch, tetapi antara sebelum dan sesudah di tuning, hasilnya sama, hanya saja untuk ROC AUC score mengalami penurunan setelah tuning\n",
        "\n",
        "ketika mencoba menggunakan SMOTE, hasilnya untuk kelas minoritas terdapat peningkatan\n",
        "\n",
        "setelah memasukan data infarence, data baru telah terklasifikasi masuk ke class 0 yg artinya tidak akan mengalami keterlambatan pembayaran"
      ],
      "metadata": {
        "id": "K4LagRegKyaF"
      }
    },
    {
      "cell_type": "markdown",
      "source": [
        "#Conceptual Problem"
      ],
      "metadata": {
        "id": "g0j6Dcf0TB_C"
      }
    },
    {
      "cell_type": "markdown",
      "source": [
        "1. Apa yang dimaksud dengan criterion pada Decision Tree ? Jelaskan criterion yang kalian pakai dalam kasus ini !\n",
        "\n",
        "criterion = mengevaluasi kualitas pemisahan pada setiap node dalam pohon keputusan. untuk criterion yg digunakan adalah 'gini' yg digunakan untuk mengevaluasi kualitas pemisahan pada setiap node\n",
        "2. Jelaskan apa yang dimaksud dengan pruning pada Tree-based model (alasan, definisi, jenis, dll) !\n",
        "pruning adalah proses untuk mengurangi kompleksitas pohon keputusan dengan menghilangkan cabang yang tidak penting dan tidak signifikan.\n",
        "Pruning terbagi menjadi dua jenis, yaitu pre-pruning (pemotongan pohon saat pembuatan pohon) dan post-pruning (pemotongan pohon setelah pembuatan pohon). alasan menggunakan pruning adalah untuk mencegah overfitting pada model dan mengoptimalkan kinerja model\n",
        "3. Bagaimana cara memilih K yang optimal pada KNN ?\n",
        "\n",
        "cara memilih K yg optimal adalah dengan menggunakan cross validation\n",
        "4. Jelaskan apa yang dimaksud dengan Cross Validation !\n",
        "\n",
        "teknik evaluasi model yang digunakan untuk menguji kinerja model pada data\n",
        "5. Apa yang dimaksud dengan metrics-metrics berikut : Accuracy, Precision, Recall, F1 Score, dan kapan waktu yang tepat untuk menggunakannya ?\n",
        "\n",
        "Accuracy: mengukur proporsi prediksi yang benar dari seluruh prediksi\n",
        "Precision: mengukur seberapa banyak prediksi positif yang benar dari seluruh prediksi positif yang dibuat oleh model\n",
        "Recall: mengukur seberapa banyak prediksi positif yang benar dari seluruh data positif yang sebenarnya\n",
        "F1 Score: mengukur rata-rata harmonis antara precision dan recall\n",
        "\n",
        "pilihannya tergantung pada tujuan dan perioritas dalam meminimalkan false positive atau false negative"
      ],
      "metadata": {
        "id": "IFbsO7soTA57"
      }
    }
  ]
}